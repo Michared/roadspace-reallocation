{
 "cells": [
  {
   "cell_type": "markdown",
   "id": "e47cde00-2fda-4442-9cb0-efe120956ab2",
   "metadata": {},
   "source": [
    "# Document model"
   ]
  },
  {
   "cell_type": "code",
   "execution_count": 7,
   "id": "cbee3e39-16d4-43b0-a374-4b7bbc2e55f9",
   "metadata": {},
   "outputs": [],
   "source": [
    "import pandas as pd\n",
    "import string\n",
    "from collections import defaultdict"
   ]
  },
  {
   "cell_type": "code",
   "execution_count": 2,
   "id": "4c3db70c-6544-4489-89e7-17c39e787985",
   "metadata": {},
   "outputs": [],
   "source": [
    "mdl_file_path = r'../2_ModelAndParameters/model.mdl'"
   ]
  },
  {
   "cell_type": "code",
   "execution_count": 3,
   "id": "200f7d19-0b0b-4422-b946-76cd5d224055",
   "metadata": {},
   "outputs": [],
   "source": [
    "# Open the model file and read the entire content\n",
    "with open(mdl_file_path, 'r', encoding='utf-8') as file:\n",
    "    mdl_content = file.read()"
   ]
  },
  {
   "cell_type": "code",
   "execution_count": 4,
   "id": "b86db4c1-deb4-4cac-85a1-9378b5d013dd",
   "metadata": {},
   "outputs": [],
   "source": [
    "# Split the variables and store them in a dictionary\n",
    "splitted = mdl_content.split('\\n')\n",
    "i = 0\n",
    "new = defaultdict(str)\n",
    "for item in splitted[1:]:\n",
    "    if '****' in item:\n",
    "        break\n",
    "    subsplitted = item.split('\\t')\n",
    "    reformatted = r'\\\\'.join(item.split('\\t'))\n",
    "    reformatted= reformatted.replace(\"~\", \"\")\n",
    "    reformatted= reformatted.replace(\"\\\\\\\\\", \"\")\n",
    "    # print(reformatted)\n",
    "    new[i] += reformatted\n",
    "    if item == '':\n",
    "        i += 1"
   ]
  },
  {
   "cell_type": "code",
   "execution_count": 5,
   "id": "02235372-f308-41cb-94de-e650561d0804",
   "metadata": {},
   "outputs": [
    {
     "data": {
      "text/plain": [
       "318"
      ]
     },
     "execution_count": 5,
     "metadata": {},
     "output_type": "execute_result"
    }
   ],
   "source": [
    "# Number of variables minus the subscripts (which are also stored as variables)\n",
    "len(new)-4"
   ]
  },
  {
   "cell_type": "code",
   "execution_count": null,
   "id": "43812a75-64cb-4569-bbae-63ee169dda1c",
   "metadata": {},
   "outputs": [],
   "source": [
    "string.nu"
   ]
  },
  {
   "cell_type": "code",
   "execution_count": 12,
   "id": "777b36dd-acc4-48d0-b74e-2e6595614982",
   "metadata": {},
   "outputs": [],
   "source": [
    "remove_backslash = string.ascii_letters + string.digits +'()[]+-'"
   ]
  },
  {
   "cell_type": "code",
   "execution_count": 22,
   "id": "1e38711c-a39a-4811-b799-ea239d886b00",
   "metadata": {},
   "outputs": [
    {
     "name": "stdout",
     "output_type": "stream",
     "text": [
      "Data written to ./appendix-e.tex\n"
     ]
    },
    {
     "name": "stderr",
     "output_type": "stream",
     "text": [
      "<>:7: SyntaxWarning: invalid escape sequence '\\c'\n",
      "<>:26: SyntaxWarning: invalid escape sequence '\\s'\n",
      "<>:7: SyntaxWarning: invalid escape sequence '\\c'\n",
      "<>:26: SyntaxWarning: invalid escape sequence '\\s'\n",
      "C:\\Users\\marno\\AppData\\Local\\Temp\\ipykernel_9476\\794427569.py:7: SyntaxWarning: invalid escape sequence '\\c'\n",
      "  file.write(\"\\chapter{Model}\\n\\label{app:model}\\n\\sloppy\\n\")\n",
      "C:\\Users\\marno\\AppData\\Local\\Temp\\ipykernel_9476\\794427569.py:26: SyntaxWarning: invalid escape sequence '\\s'\n",
      "  file.write(\"\\n\\section*{Variables}\\n\")\n"
     ]
    }
   ],
   "source": [
    "# Path to save the .tex file\n",
    "output_path = './appendix-e.tex'\n",
    "\n",
    "# Write the dictionary values to the .tex file with line breaks\n",
    "with open(output_path, 'w') as file:\n",
    "    # Heading of the appendix\n",
    "    file.write(\"\\chapter{Model}\\n\\label{app:model}\\n\\sloppy\\n\")\n",
    "    \n",
    "    # Introductory text of the appendix\n",
    "    file.write(f\"\"\"The model contains {len(new)-4} variables. Some variables are subscripted. There are four subscript ranges with up to four levels:\"\"\")\n",
    "    \n",
    "    # Subscript legend\n",
    "    file.write(r\"\"\"\n",
    "        \\begin{itemize}\n",
    "            \\item \\textbf{zone}: city, ring\n",
    "            \\item \\textbf{space use}: motor traffic, car parking, pedestrians, cyclists\n",
    "            \\item \\textbf{car adoption status}: young adult, adult car, adult no car\n",
    "            \\item \\textbf{user type}: private, sharing\n",
    "        \\end{itemize}\"\"\")\n",
    "\n",
    "    # Link readers to github\n",
    "    file.write(r\"\"\"The model file and an excel with the sources used for parameter estimation can be found on \n",
    "    the \\underline{\\textcolor{blue}{\\href{https://github.com/Michared/roadspace-reallocation}{GitHub Repository}}} for this thesis.\"\"\")\n",
    "    \n",
    "    # List all the variables and their equations\n",
    "    file.write(\"\\n\\section*{Variables}\\n\")\n",
    "    \n",
    "    for key, value in new.items():\n",
    "        # Replace some problematic substrings that otherwise mess up the .tex compiling\n",
    "        # Remove double backslashes and format math symbols\n",
    "        formatted_value = value.replace(r'\\\\', '').replace('^', r'\\^{}').replace('%', r'\\%').replace('%', r'\\%').replace(r'),(', '), (')\n",
    "\n",
    "        for char in remove_backslash:\n",
    "            formatted_value = formatted_value.replace(fr'\\{char}', fr'{char}')\n",
    "        # formatted_value = value.replace(r'),(', '), (').replace(r'\\(', '(').replace(r'\\)', ')').replace(r'\\[', '[').replace(r'\\]', ']').replace(\n",
    "        #     r'\\B', 'B').replace(r'\\t', 't').replace(r'\\A', 'A').replace(r'\\+', '+').replace(\n",
    "        #     r'\\-', '-').replace(r'\\,', ',').replace(r'\\1', '1').replace(r'\\6', '1').replace(r'\\/', '/').replace(r'\\0', '0').replace(r'\\A', 'A').replace(r'\\t', 't').replace(\n",
    "        #     r'\\s', 's').replace(r'\\m', 'm')\n",
    "        \n",
    "        # Split the value at the first '=' and enclose the left part in \\inlinecode{}\n",
    "        if '=' in formatted_value:\n",
    "            # All variables\n",
    "            name, equation = formatted_value.split('=', 1)\n",
    "            formatted_entry = f\"\\\\inlinecode{{{name}}} = {{\\\\small {equation}}}\"\n",
    "            if 'UNIT VECTOR' in name:\n",
    "                formatted_entry += \"{\\\\small  (Converts between vector and scalar variables)}\"\n",
    "            if 'UNIT VECTOR' in equation:\n",
    "                formatted_entry += \"{\\\\small  (Unit vectors convert between vector and scalar variables)}\"\n",
    "        elif '(' in formatted_value:\n",
    "            # All lookups\n",
    "            name, equation = formatted_value.split('(', 1)\n",
    "            formatted_entry = f\"\\\\inlinecode{{{name}}} = {{\\\\small {equation}}}\"    \n",
    "        else:\n",
    "            # The subscripts remain, are already documented so continue\n",
    "            continue\n",
    "            \n",
    "        # Write each entry followed by a line break\n",
    "        file.write(f\"{formatted_entry} \\\\\\\\ \\\\\\\\ \\n\")\n",
    "\n",
    "print(f\"Data written to {output_path}\")"
   ]
  }
 ],
 "metadata": {
  "kernelspec": {
   "display_name": "Python 3 (ipykernel)",
   "language": "python",
   "name": "python3"
  },
  "language_info": {
   "codemirror_mode": {
    "name": "ipython",
    "version": 3
   },
   "file_extension": ".py",
   "mimetype": "text/x-python",
   "name": "python",
   "nbconvert_exporter": "python",
   "pygments_lexer": "ipython3",
   "version": "3.12.3"
  }
 },
 "nbformat": 4,
 "nbformat_minor": 5
}
