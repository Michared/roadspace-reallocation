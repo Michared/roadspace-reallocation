{
 "cells": [
  {
   "cell_type": "markdown",
   "id": "254377cc-902e-4cbd-a287-df2b85eb87bf",
   "metadata": {},
   "source": [
    "# Run Experiments"
   ]
  },
  {
   "cell_type": "code",
   "execution_count": 1,
   "id": "c2979aa8-4403-4bc5-bd98-4e637925ea38",
   "metadata": {},
   "outputs": [
    {
     "name": "stderr",
     "output_type": "stream",
     "text": [
      "C:\\Users\\marno\\miniconda3\\Lib\\site-packages\\ema_workbench\\connectors\\__init__.py:29: ImportWarning: netlogo connector not available\n",
      "  warnings.warn(\"netlogo connector not available\", ImportWarning)\n",
      "C:\\Users\\marno\\miniconda3\\Lib\\site-packages\\ema_workbench\\connectors\\__init__.py:34: ImportWarning: simio connector not available\n",
      "  warnings.warn(\"simio connector not available\", ImportWarning)\n"
     ]
    }
   ],
   "source": [
    "import pandas as pd\n",
    "import json \n",
    "import matplotlib.pyplot as plt\n",
    "from matplotlib.ticker import PercentFormatter\n",
    "import seaborn as sns\n",
    "import numpy as np\n",
    "from ema_workbench import TimeSeriesOutcome, perform_experiments, RealParameter, CategoricalParameter, ScalarOutcome, ema_logging, save_results\n",
    "from ema_workbench.analysis import lines, prim\n",
    "from ema_workbench.analysis.plotting_util import Density\n",
    "from ema_workbench.connectors.vensim import VensimModel"
   ]
  },
  {
   "cell_type": "code",
   "execution_count": 2,
   "id": "b9c840c2-d3ea-446f-b582-3ba2eb2905e9",
   "metadata": {},
   "outputs": [],
   "source": [
    "wd = r'../2_ModelAndParameters'"
   ]
  },
  {
   "cell_type": "markdown",
   "id": "4606b16d-f635-475d-b9f6-adc2fa19c87e",
   "metadata": {},
   "source": [
    "### Set uncertainties\n",
    "#### CategoricalParameter uncertainties"
   ]
  },
  {
   "cell_type": "code",
   "execution_count": 3,
   "id": "ac649c0e-b767-48b8-83b5-1a11562b8e0d",
   "metadata": {},
   "outputs": [
    {
     "data": {
      "text/plain": [
       "{'EBIKE UPTAKE SWITCH': {'name': 'EBIKE UPTAKE SWITCH', 'categories': (0, 1)},\n",
       " 'TIPPING POINT SWITCH': {'name': 'TIPPING POINT SWITCH',\n",
       "  'categories': (0, 1)}}"
      ]
     },
     "execution_count": 3,
     "metadata": {},
     "output_type": "execute_result"
    }
   ],
   "source": [
    "CATEGORIES = (0,1)\n",
    "\n",
    "# Variables that vary across two discrete categories using a switch, lookups specified in the model\n",
    "categorical_names = ['EBIKE UPTAKE SWITCH', 'TIPPING POINT SWITCH'] \n",
    "categoricals = {var: dict(name=var, categories=CATEGORIES) for var in categorical_names} # Dict with input params for CategoricalParameter\n",
    "categoricals"
   ]
  },
  {
   "cell_type": "markdown",
   "id": "22d45bb9-a7f2-496d-8de2-1c6bce3ceb3a",
   "metadata": {},
   "source": [
    "#### RealParameter uncertainties"
   ]
  },
  {
   "cell_type": "code",
   "execution_count": 4,
   "id": "b4667ee6-ffa2-4cb2-8103-b4c13efd7d65",
   "metadata": {},
   "outputs": [
    {
     "data": {
      "text/plain": [
       "dict_keys(['DESIRED PEDESTRIAN SPACE SHARE', 'DESIRED SHARE OF CAR SPACE USED FOR PARKING', 'PARKING SPOTS PER HOME CONSTRUCTED', 'CHANGE IN BIKE PARKING PER ADDED SPACE FOR CYCLISTS', 'REFERENCE SHIFT IN CAR ADOPTION', 'CONTACT RATE', 'BIKESHARING TO PRIVATE BIKE UPGRADE FRACTION', 'PERCEPTION TIME', 'NET ADDED PT CAPACITY PER YEAR', 'DESTINATION SHIFT RATE RING', 'DESTINATION SHIFT RATE CITY'])"
      ]
     },
     "execution_count": 4,
     "metadata": {},
     "output_type": "execute_result"
    }
   ],
   "source": [
    "# Uncertainties specified per individual variable\n",
    "indiv_params = pd.read_csv(wd+'/single_params.csv', sep=';', index_col='variable').to_dict(orient='index')\n",
    "indiv_dicts = {key: dict(name=key, **value) for key, value in indiv_params.items()} \n",
    "indiv_dicts.keys()"
   ]
  },
  {
   "cell_type": "code",
   "execution_count": 5,
   "id": "6b6759d2-f0f8-432e-8f44-bd7dcf8df0d4",
   "metadata": {},
   "outputs": [],
   "source": [
    "# Effect sensitivities have common bounds\n",
    "BOUNDS = {'lower_bound':0.5, 'upper_bound':2}\n",
    "sensitivity_names = ['RENEWAL RATE SENSITIVITY', 'CAR ADOPTION SENSITIVITY TO USAGE', 'BIKE ADOPTION SENSITIVITY TO PARKING', 'BIKE ADOPTION SENSITIVITY TO USAGE', 'CAR NETWORK DISTANCE SENSITIVITY', 'CYCLING NETWORK DISTANCE SENSITIVITY', 'SUBJECTIVE CYCLING TIME SENSITIVITY', 'PARKING SEARCH AND EGRESS SENSITIVITY', 'SENSITIVITY TO SIDEWALK DATA UNCERTAINTY', 'SENSITIVITY TO CAR LANE DATA UNCERTAINTY']\n",
    "sens_dicts = {key: dict(name=key, **BOUNDS) for key in sensitivity_names}"
   ]
  },
  {
   "cell_type": "code",
   "execution_count": 6,
   "id": "3335e2f3-c884-4c64-9381-2972439a8910",
   "metadata": {},
   "outputs": [],
   "source": [
    "# ema distinguishes real parameters from catagorical parameters\n",
    "real_dicts = sens_dicts\n",
    "real_dicts.update(indiv_dicts)"
   ]
  },
  {
   "cell_type": "code",
   "execution_count": 7,
   "id": "660d67ca-7900-4561-b98a-c04071d73b53",
   "metadata": {},
   "outputs": [],
   "source": [
    "# add = {'CHANGE IN BIKE PARKING PER ADDED SPACE FOR CYCLISTS': {'name': 'CHANGE IN BIKE PARKING PER ADDED SPACE FOR CYCLISTS',\n",
    "#                                                               'lower_bound': 0,\n",
    "#                                                               'upper_bound': 2}}\n",
    "# real_dicts.update(add)\n",
    "# change = {'CONTACT RATE': {'name': 'CONTACT RATE',\n",
    "#                                                               'lower_bound': 1,\n",
    "#                                                               'upper_bound': 3}}\n",
    "# real_dicts.update(change)\n",
    "# # real_dicts"
   ]
  },
  {
   "cell_type": "code",
   "execution_count": 8,
   "id": "db450758-48b9-4503-8659-9fad2a7cc45a",
   "metadata": {},
   "outputs": [],
   "source": [
    "cat_params = [CategoricalParameter(**categorical) for categorical in categoricals.values()]\n",
    "real_params = [RealParameter(**real) for real in real_dicts.values()]"
   ]
  },
  {
   "cell_type": "markdown",
   "id": "e1f6b25f-70cb-4511-9a9a-a48a20c68839",
   "metadata": {},
   "source": [
    "### Load model\n",
    "Upon publishing the model as .vpmx file it can be read by the ema-workbench connector. Note the ema-workbench connector only works with the DSS version of Vensim."
   ]
  },
  {
   "cell_type": "code",
   "execution_count": 9,
   "id": "ec4c4d13-b537-4451-ac89-e3aefa1a03db",
   "metadata": {},
   "outputs": [],
   "source": [
    "ema_logging.log_to_stderr(ema_logging.INFO)\n",
    "model = VensimModel(\"roadspaceModel\", wd=wd, model_file=\"model.vpmx\")"
   ]
  },
  {
   "cell_type": "markdown",
   "id": "89f93366-475d-4b72-87bd-4b5362bd55d5",
   "metadata": {},
   "source": [
    "### Set up experiments\n",
    "Define uncertainties"
   ]
  },
  {
   "cell_type": "code",
   "execution_count": 10,
   "id": "774aabbd-2b36-4e2d-b396-26b595f37d55",
   "metadata": {},
   "outputs": [],
   "source": [
    "model.uncertainties = cat_params + real_params"
   ]
  },
  {
   "cell_type": "markdown",
   "id": "538d19bc-9f25-405e-bb75-935eae2994d3",
   "metadata": {},
   "source": [
    "Defining main outcomes to review"
   ]
  },
  {
   "cell_type": "code",
   "execution_count": 11,
   "id": "86c70e6b-888d-4d7e-a47e-fea129c730d7",
   "metadata": {},
   "outputs": [],
   "source": [
    "main_outcomes = [TimeSeriesOutcome(\"Car Distance Share\", variable_name=\"car distance share\"),\n",
    "                 TimeSeriesOutcome(\"Public Transport Distance Share\", variable_name=\"PT distance share\"),\n",
    "                 TimeSeriesOutcome(\"Bike Distance Share\", variable_name=\"bike distance share\"),\n",
    "                 TimeSeriesOutcome(\"Walking Distance Share\", variable_name=\"walking distance share\")]"
   ]
  },
  {
   "cell_type": "code",
   "execution_count": 12,
   "id": "a76df100-05c2-419b-863b-de569cd8cdd7",
   "metadata": {},
   "outputs": [],
   "source": [
    "other_outcomes = [TimeSeriesOutcome(\"Variation In Pedestrian Space\", variable_name=\"variation in pedestrian space\"),\n",
    "                  TimeSeriesOutcome(\"Bike Network Completion\", variable_name=\"bike network completion\"),\n",
    "                  TimeSeriesOutcome(\"Variation in Subjective Travel Time by Bike\", variable_name=\"variation in subjective travel time by bike\"),\n",
    "                  TimeSeriesOutcome(\"Variation in Subjective Travel Time by Car\", variable_name=\"variation in subjective travel time by car\"),\n",
    "                  TimeSeriesOutcome(\"Variation in Subjective Travel Time by PT\", variable_name=\"variation in subjective travel time by PT\"),\n",
    "                  TimeSeriesOutcome(\"Fraction of City Population with Bike Access\", variable_name=\"fraction of city population with bike access\"),\n",
    "                  TimeSeriesOutcome(\"Fraction of Ring Population with Bike Access\", variable_name=\"fraction of ring population with bike access\"),\n",
    "                  TimeSeriesOutcome(\"Population Fraction with Car Access on Long Distance Trips\", variable_name=\"population fraction with car access on long distance trips\"),\n",
    "                  TimeSeriesOutcome(\"Car Trips Share\", variable_name=\"car trips share\"),\n",
    "                  TimeSeriesOutcome(\"PT Trips Share\", variable_name=\"PT trips share\"),\n",
    "                  TimeSeriesOutcome(\"Bike Trips Share\", variable_name=\"bike trips share\")]"
   ]
  },
  {
   "cell_type": "code",
   "execution_count": 13,
   "id": "dfaab339-6ad9-412e-957f-6949acbb847b",
   "metadata": {},
   "outputs": [
    {
     "data": {
      "text/plain": [
       "['Variation In Pedestrian Space',\n",
       " 'Bike Network Completion',\n",
       " 'Variation in Subjective Travel Time by Bike',\n",
       " 'Variation in Subjective Travel Time by Car',\n",
       " 'Variation in Subjective Travel Time by PT',\n",
       " 'Fraction of City Population with Bike Access',\n",
       " 'Fraction of Ring Population with Bike Access',\n",
       " 'Population Fraction with Car Access on Long Distance Trips',\n",
       " 'Car Trips Share',\n",
       " 'PT Trips Share',\n",
       " 'Bike Trips Share']"
      ]
     },
     "execution_count": 13,
     "metadata": {},
     "output_type": "execute_result"
    }
   ],
   "source": [
    "[outc.name for outc in other_outcomes]"
   ]
  },
  {
   "cell_type": "code",
   "execution_count": 14,
   "id": "cd08fe53-bf6a-43a1-8773-b4e478e39353",
   "metadata": {},
   "outputs": [],
   "source": [
    "model.outcomes = main_outcomes + other_outcomes"
   ]
  },
  {
   "cell_type": "markdown",
   "id": "676e3eba-6769-4c37-88b5-e50e9bfad29d",
   "metadata": {},
   "source": [
    "### Run experiments"
   ]
  },
  {
   "cell_type": "code",
   "execution_count": 15,
   "id": "96b984bc-9942-4dc3-8dd1-935399525be3",
   "metadata": {},
   "outputs": [
    {
     "name": "stderr",
     "output_type": "stream",
     "text": [
      "[MainProcess/INFO] performing 1000 scenarios * 1 policies * 1 model(s) = 1000 experiments\n",
      "  0%|                                                 | 0/1000 [00:00<?, ?it/s][MainProcess/INFO] performing experiments sequentially\n",
      "100%|██████████████████████████████████████| 1000/1000 [00:15<00:00, 66.13it/s]\n",
      "[MainProcess/INFO] experiments finished\n"
     ]
    }
   ],
   "source": [
    "experiments, outcomes = perform_experiments(model, 1000)"
   ]
  },
  {
   "cell_type": "markdown",
   "id": "b82b69ba-057d-4872-a348-5e8dd4504f5a",
   "metadata": {},
   "source": [
    "#### Variation\n",
    "Describe the range of variation of the reference modes between initial time and final time"
   ]
  },
  {
   "cell_type": "code",
   "execution_count": 16,
   "id": "a311ddbb-3dd8-476e-b23d-f989737fb750",
   "metadata": {},
   "outputs": [
    {
     "name": "stdout",
     "output_type": "stream",
     "text": [
      "Car Distance Share:\n",
      "19% - 58%\n",
      "Public Transport Distance Share:\n",
      "0% - 20%\n",
      "Bike Distance Share:\n",
      "110% - 495%\n"
     ]
    }
   ],
   "source": [
    "for ref_mode in [\"Car Distance Share\", \"Public Transport Distance Share\", \"Bike Distance Share\"]:\n",
    "    initial = np.array([ts[0] for ts in outcomes[ref_mode]])\n",
    "    final = np.array([ts[-1] for ts in outcomes[ref_mode]])\n",
    "    diff = abs(np.subtract(final, initial))\n",
    "    max_diff = diff.max() / initial[0]\n",
    "    min_diff = diff.min() / initial[0]\n",
    "    print(f'{ref_mode}:\\n{min_diff:.0%} - {max_diff:.0%}')"
   ]
  },
  {
   "cell_type": "markdown",
   "id": "b0dc4574-8af3-4419-9fcc-c2399d85cd1b",
   "metadata": {},
   "source": [
    "#### Save results\n",
    "Save results in a file that can be used for PRIM in a separate notebook"
   ]
  },
  {
   "cell_type": "code",
   "execution_count": 17,
   "id": "54a1dab8-e638-4477-80a6-941b6228ebb6",
   "metadata": {},
   "outputs": [
    {
     "name": "stderr",
     "output_type": "stream",
     "text": [
      "C:\\Users\\marno\\miniconda3\\Lib\\site-packages\\ema_workbench\\em_framework\\outcomes.py:541: UserWarning: still to be tested!!\n",
      "  warnings.warn(\"still to be tested!!\")\n",
      "[MainProcess/INFO] results saved successfully to C:\\Users\\marno\\Python Projects\\paris-roadspace\\3_Experiments\\results\\results_final.tar.gz\n"
     ]
    }
   ],
   "source": [
    "save_results((experiments, outcomes), \"./results/results_final.tar.gz\")"
   ]
  }
 ],
 "metadata": {
  "kernelspec": {
   "display_name": "thesis",
   "language": "python",
   "name": "thesis"
  },
  "language_info": {
   "codemirror_mode": {
    "name": "ipython",
    "version": 3
   },
   "file_extension": ".py",
   "mimetype": "text/x-python",
   "name": "python",
   "nbconvert_exporter": "python",
   "pygments_lexer": "ipython3",
   "version": "3.12.3"
  }
 },
 "nbformat": 4,
 "nbformat_minor": 5
}
